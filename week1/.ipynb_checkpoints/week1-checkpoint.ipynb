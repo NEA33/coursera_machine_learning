{
 "cells": [
  {
   "cell_type": "markdown",
   "metadata": {},
   "source": [
    "Задания:\n",
    "1. Какое количество мужчин и женщин ехало на корабле? В качестве ответа приведите два числа через пробел.\n",
    "2. Какой части пассажиров удалось выжить? Посчитайте долю выживших пассажиров. Ответ приведите в процентах (число в интервале от 0 до 100, знак процента не нужен), округлив до двух знаков.\n",
    "3. Какую долю пассажиры первого класса составляли среди всех пассажиров? Ответ приведите в процентах (число в интервале от 0 до 100, знак процента не нужен), округлив до двух знаков.\n",
    "4. Какого возраста были пассажиры? Посчитайте среднее и медиану возраста пассажиров. В качестве ответа приведите два числа через пробел.\n",
    "5. Коррелируют ли число братьев/сестер/супругов с числом родителей/детей? Посчитайте корреляцию Пирсона между признаками SibSp и Parch.\n",
    "6. Какое самое популярное женское имя на корабле? Извлеките из полного имени пассажира (колонка Name) его личное имя (First Name). Это задание — типичный пример того, с чем сталкивается специалист по анализу данных. Данные очень разнородные и шумные, но из них требуется извлечь необходимую информацию. Попробуйте вручную разобрать несколько значений столбца Name и выработать правило для извлечения имен, а также разделения их на женские и мужские."
   ]
  },
  {
   "cell_type": "code",
   "execution_count": 1,
   "metadata": {},
   "outputs": [],
   "source": [
    "import pandas"
   ]
  },
  {
   "cell_type": "code",
   "execution_count": 3,
   "metadata": {},
   "outputs": [],
   "source": [
    "data = pandas.read_csv('titanic.csv')"
   ]
  },
  {
   "cell_type": "code",
   "execution_count": 4,
   "metadata": {},
   "outputs": [],
   "source": [
    "#1\n",
    "male = data.groupby(['Sex'])['PassengerId'].count()['male']\n",
    "female = data.groupby(['Sex'])['PassengerId'].count()['female']\n",
    "with open('week1_1', 'w') as f:\n",
    "    f.write(str(male))\n",
    "    f.write(' ')\n",
    "    f.write(str(female))"
   ]
  },
  {
   "cell_type": "code",
   "execution_count": 5,
   "metadata": {},
   "outputs": [],
   "source": [
    "#2\n",
    "survived = data.groupby(['Survived'])['PassengerId'].count()[1]\n",
    "allPeople = data['Survived'].count()\n",
    "with open('week1_2', 'w') as f:\n",
    "    f.write(str(round(survived/allPeople*100, 2)))"
   ]
  },
  {
   "cell_type": "code",
   "execution_count": 6,
   "metadata": {},
   "outputs": [],
   "source": [
    "#3\n",
    "first = data.groupby(['Pclass'])['PassengerId'].count()[1]\n",
    "allPclass = data['Pclass'].count()\n",
    "with open('week1_3', 'w') as f:\n",
    "    f.write(str(round(first/allPclass*100, 2)))"
   ]
  },
  {
   "cell_type": "code",
   "execution_count": 9,
   "metadata": {},
   "outputs": [],
   "source": [
    "#4\n",
    "with open('week1_4', 'w') as f:\n",
    "    f.write(str(round(data['Age'].mean(), 2)))\n",
    "    f.write(' ')\n",
    "    f.write(str(data['Age'].median()))"
   ]
  },
  {
   "cell_type": "code",
   "execution_count": 15,
   "metadata": {},
   "outputs": [],
   "source": [
    "#5\n",
    "df = data[['SibSp', 'Parch']]\n",
    "with open('week1_5', 'w') as f:\n",
    "    f.write(str(round(df.corr()['SibSp']['Parch'], 2)))"
   ]
  },
  {
   "cell_type": "code",
   "execution_count": 17,
   "metadata": {},
   "outputs": [],
   "source": [
    "#6\n",
    "dictName = dict()\n",
    "for i in data[data.Sex == 'female']['Name']:\n",
    "    if ('Miss' in i):\n",
    "        name = i.split('Miss.')[1].split()[0]    \n",
    "    else:\n",
    "        name = i.split('Mrs.')[-1].split('(')[-1].split()[0].split(',')[0].split(')')[0]\n",
    "    if (name in dictName):\n",
    "        dictName[name] += 1\n",
    "    else:           \n",
    "        dictName[name] = 1  "
   ]
  },
  {
   "cell_type": "code",
   "execution_count": 18,
   "metadata": {},
   "outputs": [],
   "source": [
    "new = pandas.DataFrame({'counts': pandas.Series(dictName)})\n",
    "maxCounts = new.max().counts\n",
    "with open('week1_6', 'w') as f:\n",
    "    f.write(new[new.counts == maxCounts].index[0])"
   ]
  },
  {
   "cell_type": "code",
   "execution_count": null,
   "metadata": {},
   "outputs": [],
   "source": []
  }
 ],
 "metadata": {
  "kernelspec": {
   "display_name": "Python 3",
   "language": "python",
   "name": "python3"
  },
  "language_info": {
   "codemirror_mode": {
    "name": "ipython",
    "version": 3
   },
   "file_extension": ".py",
   "mimetype": "text/x-python",
   "name": "python",
   "nbconvert_exporter": "python",
   "pygments_lexer": "ipython3",
   "version": "3.6.8"
  }
 },
 "nbformat": 4,
 "nbformat_minor": 4
}
