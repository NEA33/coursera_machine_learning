{
 "cells": [
  {
   "cell_type": "code",
   "execution_count": 1,
   "metadata": {},
   "outputs": [],
   "source": [
    "import pandas\n",
    "import numpy as np\n",
    "from sklearn.ensemble import RandomForestClassifier\n",
    "from sklearn.ensemble import RandomForestRegressor\n",
    "from sklearn.metrics import r2_score\n",
    "from sklearn.model_selection import KFold"
   ]
  },
  {
   "cell_type": "code",
   "execution_count": 2,
   "metadata": {},
   "outputs": [],
   "source": [
    "data = pandas.read_csv('abalone.csv')"
   ]
  },
  {
   "cell_type": "code",
   "execution_count": 5,
   "metadata": {},
   "outputs": [],
   "source": [
    "data['Sex'] = data['Sex'].map(lambda x: 1 if x == 'M' else(-1 if x == 'F' else 0))"
   ]
  },
  {
   "cell_type": "code",
   "execution_count": 11,
   "metadata": {},
   "outputs": [],
   "source": [
    "X = data[data.columns[:-1]]\n",
    "y = data['Rings']"
   ]
  },
  {
   "cell_type": "code",
   "execution_count": 30,
   "metadata": {},
   "outputs": [],
   "source": [
    "kf = KFold(n_splits = 5, shuffle = True, random_state = 1)\n",
    "scoreK = np.zeros(50)\n",
    "for k in range(1, 51):\n",
    "    regr = RandomForestRegressor(random_state=1, n_estimators=k)\n",
    "    \n",
    "    for train_index, test_index in kf.split(X):\n",
    "        X_train, X_test = X.loc[train_index], X.loc[test_index]\n",
    "        y_train, y_test = y[train_index], y[test_index]\n",
    "        regr.fit(X_train, y_train)\n",
    "        predict = regr.predict(X_test)\n",
    "        scoreK[k-1] += r2_score(y_test, predict)\n",
    "scoreK /= 5"
   ]
  },
  {
   "cell_type": "code",
   "execution_count": 42,
   "metadata": {},
   "outputs": [
    {
     "name": "stdout",
     "output_type": "stream",
     "text": [
      "28\n"
     ]
    }
   ],
   "source": [
    "for i in range(len(scoreK)):\n",
    "    if (round(scoreK[i],2) > 0.52):\n",
    "        with open('week5_1', 'w') as f:\n",
    "            f.write(str(i+1))\n",
    "        print (i+1)\n",
    "        break"
   ]
  },
  {
   "cell_type": "code",
   "execution_count": 2,
   "metadata": {},
   "outputs": [],
   "source": [
    "#2\n",
    "from sklearn.ensemble import GradientBoostingClassifier\n",
    "from sklearn.ensemble import GradientBoostingRegressor\n",
    "from sklearn.model_selection import train_test_split\n",
    "from sklearn.metrics import log_loss"
   ]
  },
  {
   "cell_type": "code",
   "execution_count": 3,
   "metadata": {},
   "outputs": [],
   "source": [
    "data = pandas.read_csv('gbm-data.csv')"
   ]
  },
  {
   "cell_type": "code",
   "execution_count": 4,
   "metadata": {},
   "outputs": [],
   "source": [
    "X = data[data.columns[1:]].values\n",
    "y = data['Activity'].values"
   ]
  },
  {
   "cell_type": "code",
   "execution_count": 5,
   "metadata": {},
   "outputs": [],
   "source": [
    "X_train, X_test, y_train, y_test = train_test_split(X, y, test_size = 0.8, random_state = 241)"
   ]
  },
  {
   "cell_type": "code",
   "execution_count": 36,
   "metadata": {},
   "outputs": [],
   "source": [
    "def sigmoid(x):\n",
    "    return (1/(1+np.exp(-x)))"
   ]
  },
  {
   "cell_type": "code",
   "execution_count": 48,
   "metadata": {},
   "outputs": [],
   "source": [
    "import matplotlib.pyplot as plt"
   ]
  },
  {
   "cell_type": "code",
   "execution_count": 68,
   "metadata": {},
   "outputs": [],
   "source": [
    "def loss_train_test(X_train, X_test, y_train, y_test, learning_rate):\n",
    "    loglos_train = []\n",
    "    loglos_test = []\n",
    "    clf = GradientBoostingClassifier(n_estimators=250, verbose=True, learning_rate=learning_rate)\n",
    "    clf.fit(X_train, y_train)\n",
    "    for  y_pred in clf.staged_decision_function(X_train):\n",
    "        loglos_train.append(log_loss(y_train,sigmoid(y_pred)))\n",
    "    for y_pred in clf.staged_decision_function(X_test):\n",
    "        loglos_test.append(log_loss(y_test, sigmoid(y_pred)))\n",
    "    return (loglos_train, loglos_test)"
   ]
  },
  {
   "cell_type": "code",
   "execution_count": 69,
   "metadata": {},
   "outputs": [
    {
     "name": "stdout",
     "output_type": "stream",
     "text": [
      "      Iter       Train Loss   Remaining Time \n",
      "         1           1.0190           54.81s\n",
      "         2           0.9192           37.82s\n",
      "         3           0.8272           31.04s\n",
      "         4           0.7834           27.14s\n",
      "         5           0.7109           24.85s\n",
      "         6           0.6368           23.29s\n",
      "         7           0.5797           22.02s\n",
      "         8           0.5610           21.23s\n",
      "         9           0.5185           20.43s\n",
      "        10           0.4984           19.72s\n",
      "        20           0.1999           16.57s\n",
      "        30           0.1313           15.13s\n",
      "        40           0.0790           14.18s\n",
      "        50           0.0511           13.81s\n",
      "        60           0.0352           13.14s\n",
      "        70           0.0245           12.32s\n",
      "        80           0.0162           11.86s\n",
      "        90           0.0114           11.02s\n",
      "       100           0.0077           10.22s\n",
      "       200           0.0004            2.93s\n"
     ]
    },
    {
     "data": {
      "text/plain": [
       "<matplotlib.legend.Legend at 0x7f0a7d5c7358>"
      ]
     },
     "execution_count": 69,
     "metadata": {},
     "output_type": "execute_result"
    },
    {
     "data": {
      "image/png": "[encoded data removed]",
      "text/plain": [
       "<Figure size 432x288 with 1 Axes>"
      ]
     },
     "metadata": {
      "needs_background": "light"
     },
     "output_type": "display_data"
    }
   ],
   "source": [
    "loss_train, loss_test = loss_train_test(X_train, X_test, y_train, y_test, 1)\n",
    "%matplotlib inline\n",
    "plt.figure()\n",
    "plt.plot(loss_test, 'r', linewidth=2)\n",
    "plt.plot(loss_train, 'g', linewidth=2)\n",
    "plt.legend(['test', 'train'])"
   ]
  },
  {
   "cell_type": "code",
   "execution_count": 70,
   "metadata": {},
   "outputs": [
    {
     "name": "stdout",
     "output_type": "stream",
     "text": [
      "      Iter       Train Loss   Remaining Time \n",
      "         1           1.1255           21.07s\n",
      "         2           1.0043           18.74s\n",
      "         3           0.9388           18.70s\n",
      "         4           0.8902           18.24s\n",
      "         5           0.8324           18.88s\n",
      "         6           0.7897           18.79s\n",
      "         7           0.7510           18.37s\n",
      "         8           0.7200           18.04s\n",
      "         9           0.7052           17.73s\n",
      "        10           0.6658           17.71s\n",
      "        20           0.4941           15.31s\n",
      "        30           0.3607           14.22s\n",
      "        40           0.2525           13.37s\n",
      "        50           0.1863           12.70s\n",
      "        60           0.1461           11.96s\n",
      "        70           0.1113           11.27s\n",
      "        80           0.0902           10.58s\n",
      "        90           0.0709            9.93s\n",
      "       100           0.0543            9.29s\n",
      "       200           0.0050            3.19s\n"
     ]
    },
    {
     "data": {
      "text/plain": [
       "<matplotlib.legend.Legend at 0x7f0a7d7b3e48>"
      ]
     },
     "execution_count": 70,
     "metadata": {},
     "output_type": "execute_result"
    },
    {
     "data": {
      "image/png": "[encoded data removed]",
      "text/plain": [
       "<Figure size 432x288 with 1 Axes>"
      ]
     },
     "metadata": {
      "needs_background": "light"
     },
     "output_type": "display_data"
    }
   ],
   "source": [
    "loss_train, loss_test = loss_train_test(X_train, X_test, y_train, y_test, 0.5)\n",
    "%matplotlib inline\n",
    "plt.figure()\n",
    "plt.plot(loss_test, 'r', linewidth=2)\n",
    "plt.plot(loss_train, 'g', linewidth=2)\n",
    "plt.legend(['test', 'train'])"
   ]
  },
  {
   "cell_type": "code",
   "execution_count": 71,
   "metadata": {},
   "outputs": [
    {
     "name": "stdout",
     "output_type": "stream",
     "text": [
      "      Iter       Train Loss   Remaining Time \n",
      "         1           1.2095           19.96s\n",
      "         2           1.1006           18.11s\n",
      "         3           1.0240           18.44s\n",
      "         4           0.9729           18.74s\n",
      "         5           0.9387           18.37s\n",
      "         6           0.8948           18.47s\n",
      "         7           0.8621           18.31s\n",
      "         8           0.8360           18.07s\n",
      "         9           0.8171           17.85s\n",
      "        10           0.7883           17.56s\n",
      "        20           0.6164           15.50s\n",
      "        30           0.4933           14.40s\n",
      "        40           0.4248           14.23s\n",
      "        50           0.3345           13.63s\n",
      "        60           0.2760           12.94s\n",
      "        70           0.2263           12.20s\n",
      "        80           0.1971           11.38s\n",
      "        90           0.1693           10.59s\n",
      "       100           0.1388            9.87s\n",
      "       200           0.0294            3.22s\n"
     ]
    },
    {
     "data": {
      "text/plain": [
       "<matplotlib.legend.Legend at 0x7f0a7d61f6d8>"
      ]
     },
     "execution_count": 71,
     "metadata": {},
     "output_type": "execute_result"
    },
    {
     "data": {
      "image/png": "[encoded data removed]",
      "text/plain": [
       "<Figure size 432x288 with 1 Axes>"
      ]
     },
     "metadata": {
      "needs_background": "light"
     },
     "output_type": "display_data"
    }
   ],
   "source": [
    "loss_train, loss_test = loss_train_test(X_train, X_test, y_train, y_test, 0.3)\n",
    "%matplotlib inline\n",
    "plt.figure()\n",
    "plt.plot(loss_test, 'r', linewidth=2)\n",
    "plt.plot(loss_train, 'g', linewidth=2)\n",
    "plt.legend(['test', 'train'])"
   ]
  },
  {
   "cell_type": "code",
   "execution_count": 72,
   "metadata": {},
   "outputs": [
    {
     "name": "stdout",
     "output_type": "stream",
     "text": [
      "      Iter       Train Loss   Remaining Time \n",
      "         1           1.3199           21.61s\n",
      "         2           1.2647           18.98s\n",
      "         3           1.2170           19.62s\n",
      "         4           1.1776           19.55s\n",
      "         5           1.1403           19.06s\n",
      "         6           1.1106           18.89s\n",
      "         7           1.0844           19.11s\n",
      "         8           1.0617           18.84s\n",
      "         9           1.0410           18.63s\n",
      "        10           1.0221           18.30s\n",
      "        20           0.8836           16.13s\n",
      "        30           0.7840           14.84s\n",
      "        40           0.7137           14.03s\n",
      "        50           0.6577           13.51s\n",
      "        60           0.6029           12.73s\n",
      "        70           0.5654           11.96s\n",
      "        80           0.5237           11.30s\n",
      "        90           0.4911           10.55s\n",
      "       100           0.4550            9.88s\n",
      "       200           0.2442            3.20s\n"
     ]
    },
    {
     "data": {
      "text/plain": [
       "<matplotlib.legend.Legend at 0x7f0a7d80bac8>"
      ]
     },
     "execution_count": 72,
     "metadata": {},
     "output_type": "execute_result"
    },
    {
     "data": {
      "image/png": "[encoded data removed]",
      "text/plain": [
       "<Figure size 432x288 with 1 Axes>"
      ]
     },
     "metadata": {
      "needs_background": "light"
     },
     "output_type": "display_data"
    }
   ],
   "source": [
    "loss_train, loss_test = loss_train_test(X_train, X_test, y_train, y_test, 0.1)\n",
    "%matplotlib inline\n",
    "plt.figure()\n",
    "plt.plot(loss_test, 'r', linewidth=2)\n",
    "plt.plot(loss_train, 'g', linewidth=2)\n",
    "plt.legend(['test', 'train'])"
   ]
  },
  {
   "cell_type": "code",
   "execution_count": 73,
   "metadata": {},
   "outputs": [
    {
     "name": "stdout",
     "output_type": "stream",
     "text": [
      "      Iter       Train Loss   Remaining Time \n",
      "         1           1.2613           21.86s\n",
      "         2           1.1715           20.68s\n",
      "         3           1.1009           20.76s\n",
      "         4           1.0529           20.59s\n",
      "         5           1.0130           19.96s\n",
      "         6           0.9740           19.80s\n",
      "         7           0.9475           19.14s\n",
      "         8           0.9197           19.00s\n",
      "         9           0.8979           18.53s\n",
      "        10           0.8730           18.23s\n",
      "        20           0.7207           15.67s\n",
      "        30           0.6055           14.39s\n",
      "        40           0.5244           13.42s\n",
      "        50           0.4501           12.65s\n",
      "        60           0.3908           11.91s\n",
      "        70           0.3372           11.20s\n",
      "        80           0.3009           10.54s\n",
      "        90           0.2603            9.90s\n",
      "       100           0.2327            9.31s\n",
      "       200           0.0835            3.28s\n"
     ]
    },
    {
     "data": {
      "text/plain": [
       "<matplotlib.legend.Legend at 0x7f0a7d6ebe80>"
      ]
     },
     "execution_count": 73,
     "metadata": {},
     "output_type": "execute_result"
    },
    {
     "data": {
      "image/png": "[encoded data removed]",
      "text/plain": [
       "<Figure size 432x288 with 1 Axes>"
      ]
     },
     "metadata": {
      "needs_background": "light"
     },
     "output_type": "display_data"
    }
   ],
   "source": [
    "loss_train, loss_test = loss_train_test(X_train, X_test, y_train, y_test, 0.2)\n",
    "%matplotlib inline\n",
    "plt.figure()\n",
    "plt.plot(loss_test, 'r', linewidth=2)\n",
    "plt.plot(loss_train, 'g', linewidth=2)\n",
    "plt.legend(['test', 'train'])"
   ]
  },
  {
   "cell_type": "code",
   "execution_count": 74,
   "metadata": {},
   "outputs": [],
   "source": [
    "with open('week5_2', 'w') as f:\n",
    "    f.write('overfitting')"
   ]
  },
  {
   "cell_type": "code",
   "execution_count": 75,
   "metadata": {},
   "outputs": [],
   "source": [
    "with open('week5_3', 'w') as f:\n",
    "    f.write(str(round(min(loss_test),2)) + ' ' + str(loss_test.index(min(loss_test))+1))"
   ]
  },
  {
   "cell_type": "code",
   "execution_count": 78,
   "metadata": {},
   "outputs": [
    {
     "data": {
      "text/plain": [
       "0.54156858119573814"
      ]
     },
     "execution_count": 78,
     "metadata": {},
     "output_type": "execute_result"
    }
   ],
   "source": [
    "clf = RandomForestClassifier(n_estimators=loss_test.index(min(loss_test))+1, random_state=241)\n",
    "clf.fit(X_train, y_train)\n",
    "y_pred = clf.predict_proba(X_test)\n",
    "with open('week5_4', 'w') as f:\n",
    "    f.write(str(round(log_loss(y_test, y_pred),2)))\n",
    "log_loss(y_test, y_pred)"
   ]
  }
 ],
 "metadata": {
  "kernelspec": {
   "display_name": "Python 3",
   "language": "python",
   "name": "python3"
  },
  "language_info": {
   "codemirror_mode": {
    "name": "ipython",
    "version": 3
   },
   "file_extension": ".py",
   "mimetype": "text/x-python",
   "name": "python",
   "nbconvert_exporter": "python",
   "pygments_lexer": "ipython3",
   "version": "3.6.9"
  }
 },
 "nbformat": 4,
 "nbformat_minor": 4
}
